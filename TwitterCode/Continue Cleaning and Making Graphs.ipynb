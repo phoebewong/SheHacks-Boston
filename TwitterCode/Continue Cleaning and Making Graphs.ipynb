{
 "cells": [
  {
   "cell_type": "code",
   "execution_count": 26,
   "metadata": {
    "collapsed": true
   },
   "outputs": [],
   "source": [
    "import pandas as pd\n",
    "from geopy.geocoders import Nominatim\n",
    "import ftfy\n",
    "import seaborn as sns"
   ]
  },
  {
   "cell_type": "code",
   "execution_count": 13,
   "metadata": {
    "collapsed": true
   },
   "outputs": [],
   "source": [
    "metoo_data_semiraw = pd.read_csv(\"Cleaning_Up_MeToo_Data.csv\", encoding = \"utf-8\")"
   ]
  },
  {
   "cell_type": "code",
   "execution_count": 14,
   "metadata": {},
   "outputs": [
    {
     "data": {
      "text/html": [
       "<div>\n",
       "<style>\n",
       "    .dataframe thead tr:only-child th {\n",
       "        text-align: right;\n",
       "    }\n",
       "\n",
       "    .dataframe thead th {\n",
       "        text-align: left;\n",
       "    }\n",
       "\n",
       "    .dataframe tbody tr th {\n",
       "        vertical-align: top;\n",
       "    }\n",
       "</style>\n",
       "<table border=\"1\" class=\"dataframe\">\n",
       "  <thead>\n",
       "    <tr style=\"text-align: right;\">\n",
       "      <th></th>\n",
       "      <th>author_location</th>\n",
       "      <th>created_at</th>\n",
       "      <th>text</th>\n",
       "      <th>id</th>\n",
       "      <th>favorite_count</th>\n",
       "      <th>author_id</th>\n",
       "      <th>author_name</th>\n",
       "      <th>author_verified</th>\n",
       "      <th>retweet</th>\n",
       "      <th>first_name</th>\n",
       "      <th>inferred_gender</th>\n",
       "      <th>inferred_geocoordinates</th>\n",
       "    </tr>\n",
       "  </thead>\n",
       "  <tbody>\n",
       "    <tr>\n",
       "      <th>0</th>\n",
       "      <td>The DMV (Washington. DC)</td>\n",
       "      <td>2018-01-27 19:45:16</td>\n",
       "      <td>Wendy Williams Is ‘Sick Of This #MeToo Movemen...</td>\n",
       "      <td>9.573387e+17</td>\n",
       "      <td>0</td>\n",
       "      <td>23597727</td>\n",
       "      <td>93.9 WKYS</td>\n",
       "      <td>False</td>\n",
       "      <td>False</td>\n",
       "      <td>939</td>\n",
       "      <td>unknown</td>\n",
       "      <td>[[2350 Washington Pl NE #112N, Washington, DC ...</td>\n",
       "    </tr>\n",
       "    <tr>\n",
       "      <th>1</th>\n",
       "      <td>Scottsdale, AZ</td>\n",
       "      <td>2018-01-27 19:45:16</td>\n",
       "      <td>RT @Amy_Siskind: To every who has a story to t...</td>\n",
       "      <td>9.573387e+17</td>\n",
       "      <td>0</td>\n",
       "      <td>902329672628805632</td>\n",
       "      <td>Jackie Thorpe</td>\n",
       "      <td>False</td>\n",
       "      <td>True</td>\n",
       "      <td>Jackie</td>\n",
       "      <td>unknown</td>\n",
       "      <td>[[Scottsdale, AZ, USA]]</td>\n",
       "    </tr>\n",
       "    <tr>\n",
       "      <th>2</th>\n",
       "      <td>Missouri, USA</td>\n",
       "      <td>2018-01-27 19:45:15</td>\n",
       "      <td>RT @Amy_Siskind: Wow, that was fast - new game...</td>\n",
       "      <td>9.573387e+17</td>\n",
       "      <td>0</td>\n",
       "      <td>467196175</td>\n",
       "      <td>trump's BOSS</td>\n",
       "      <td>False</td>\n",
       "      <td>True</td>\n",
       "      <td>trumps</td>\n",
       "      <td>unknown</td>\n",
       "      <td>[[Missouri, USA]]</td>\n",
       "    </tr>\n",
       "    <tr>\n",
       "      <th>3</th>\n",
       "      <td>Texas, USA</td>\n",
       "      <td>2018-01-27 19:45:11</td>\n",
       "      <td>Poor little guy....\\n\\n#veterans #military #me...</td>\n",
       "      <td>9.573387e+17</td>\n",
       "      <td>0</td>\n",
       "      <td>949355663364362241</td>\n",
       "      <td>Everyday Veteran</td>\n",
       "      <td>False</td>\n",
       "      <td>False</td>\n",
       "      <td>Everyday</td>\n",
       "      <td>unknown</td>\n",
       "      <td>[[Texas, USA]]</td>\n",
       "    </tr>\n",
       "    <tr>\n",
       "      <th>4</th>\n",
       "      <td>Hell</td>\n",
       "      <td>2018-01-27 19:46:10</td>\n",
       "      <td>Lots of lib falling to the #MeToo movement so ...</td>\n",
       "      <td>9.573390e+17</td>\n",
       "      <td>0</td>\n",
       "      <td>4917121001</td>\n",
       "      <td>Hillary for Prison</td>\n",
       "      <td>False</td>\n",
       "      <td>False</td>\n",
       "      <td>Hillary</td>\n",
       "      <td>female</td>\n",
       "      <td>[[Hell, MI 48169, USA]]</td>\n",
       "    </tr>\n",
       "  </tbody>\n",
       "</table>\n",
       "</div>"
      ],
      "text/plain": [
       "            author_location           created_at  \\\n",
       "0  The DMV (Washington. DC)  2018-01-27 19:45:16   \n",
       "1            Scottsdale, AZ  2018-01-27 19:45:16   \n",
       "2             Missouri, USA  2018-01-27 19:45:15   \n",
       "3                Texas, USA  2018-01-27 19:45:11   \n",
       "4                      Hell  2018-01-27 19:46:10   \n",
       "\n",
       "                                                text            id  \\\n",
       "0  Wendy Williams Is ‘Sick Of This #MeToo Movemen...  9.573387e+17   \n",
       "1  RT @Amy_Siskind: To every who has a story to t...  9.573387e+17   \n",
       "2  RT @Amy_Siskind: Wow, that was fast - new game...  9.573387e+17   \n",
       "3  Poor little guy....\\n\\n#veterans #military #me...  9.573387e+17   \n",
       "4  Lots of lib falling to the #MeToo movement so ...  9.573390e+17   \n",
       "\n",
       "  favorite_count           author_id         author_name author_verified  \\\n",
       "0              0            23597727           93.9 WKYS           False   \n",
       "1              0  902329672628805632       Jackie Thorpe           False   \n",
       "2              0           467196175        trump's BOSS           False   \n",
       "3              0  949355663364362241    Everyday Veteran           False   \n",
       "4              0          4917121001  Hillary for Prison           False   \n",
       "\n",
       "  retweet first_name inferred_gender  \\\n",
       "0   False        939         unknown   \n",
       "1    True     Jackie         unknown   \n",
       "2    True     trumps         unknown   \n",
       "3   False   Everyday         unknown   \n",
       "4   False    Hillary          female   \n",
       "\n",
       "                             inferred_geocoordinates  \n",
       "0  [[2350 Washington Pl NE #112N, Washington, DC ...  \n",
       "1                            [[Scottsdale, AZ, USA]]  \n",
       "2                                  [[Missouri, USA]]  \n",
       "3                                     [[Texas, USA]]  \n",
       "4                            [[Hell, MI 48169, USA]]  "
      ]
     },
     "execution_count": 14,
     "metadata": {},
     "output_type": "execute_result"
    }
   ],
   "source": [
    "metoo_data_semiraw.head()"
   ]
  },
  {
   "cell_type": "code",
   "execution_count": 15,
   "metadata": {
    "collapsed": true
   },
   "outputs": [],
   "source": [
    "## Infer Ethnicity"
   ]
  },
  {
   "cell_type": "code",
   "execution_count": 16,
   "metadata": {},
   "outputs": [],
   "source": [
    "from ethnicolr import census_ln, pred_census_ln"
   ]
  },
  {
   "cell_type": "code",
   "execution_count": 17,
   "metadata": {},
   "outputs": [],
   "source": [
    "def get_last_names(author_name):\n",
    "    try:\n",
    "        author_name_str = author_name.encode(\"utf-8\")\n",
    "        last_name = author_name_str.split(\" \")[-1]\n",
    "        return last_name\n",
    "    except AttributeError as e:\n",
    "        print(\"Cannot encode {}\".format(author_name))"
   ]
  },
  {
   "cell_type": "code",
   "execution_count": 18,
   "metadata": {},
   "outputs": [
    {
     "name": "stdout",
     "output_type": "stream",
     "text": [
      "Cannot encode nan\n",
      "Cannot encode nan\n",
      "Cannot encode nan\n",
      "Cannot encode nan\n",
      "Cannot encode nan\n",
      "Cannot encode nan\n"
     ]
    }
   ],
   "source": [
    "metoo_data_semiraw[\"last_name\"] = metoo_data_semiraw[\"author_name\"].apply(get_last_names)"
   ]
  },
  {
   "cell_type": "code",
   "execution_count": 19,
   "metadata": {},
   "outputs": [
    {
     "name": "stdout",
     "output_type": "stream",
     "text": [
      "WARNING:tensorflow:From /anaconda2/lib/python2.7/site-packages/keras/backend/tensorflow_backend.py:1190: calling reduce_sum (from tensorflow.python.ops.math_ops) with keep_dims is deprecated and will be removed in a future version.\n",
      "Instructions for updating:\n",
      "keep_dims is deprecated, use keepdims instead\n",
      "WARNING:tensorflow:From /anaconda2/lib/python2.7/site-packages/keras/backend/tensorflow_backend.py:1297: calling reduce_mean (from tensorflow.python.ops.math_ops) with keep_dims is deprecated and will be removed in a future version.\n",
      "Instructions for updating:\n",
      "keep_dims is deprecated, use keepdims instead\n"
     ]
    }
   ],
   "source": [
    "ethnicity_preds = pred_census_ln(metoo_data_semiraw, 'last_name')"
   ]
  },
  {
   "cell_type": "code",
   "execution_count": 22,
   "metadata": {},
   "outputs": [],
   "source": [
    "ethnicity_preds.drop([\"inferred_geocoordinates\"], axis = 1, inplace = True)"
   ]
  },
  {
   "cell_type": "code",
   "execution_count": 23,
   "metadata": {},
   "outputs": [
    {
     "data": {
      "text/html": [
       "<div>\n",
       "<style>\n",
       "    .dataframe thead tr:only-child th {\n",
       "        text-align: right;\n",
       "    }\n",
       "\n",
       "    .dataframe thead th {\n",
       "        text-align: left;\n",
       "    }\n",
       "\n",
       "    .dataframe tbody tr th {\n",
       "        vertical-align: top;\n",
       "    }\n",
       "</style>\n",
       "<table border=\"1\" class=\"dataframe\">\n",
       "  <thead>\n",
       "    <tr style=\"text-align: right;\">\n",
       "      <th></th>\n",
       "      <th>author_location</th>\n",
       "      <th>created_at</th>\n",
       "      <th>text</th>\n",
       "      <th>id</th>\n",
       "      <th>favorite_count</th>\n",
       "      <th>author_id</th>\n",
       "      <th>author_name</th>\n",
       "      <th>author_verified</th>\n",
       "      <th>retweet</th>\n",
       "      <th>first_name</th>\n",
       "      <th>inferred_gender</th>\n",
       "      <th>last_name</th>\n",
       "      <th>race</th>\n",
       "      <th>api</th>\n",
       "      <th>black</th>\n",
       "      <th>hispanic</th>\n",
       "      <th>white</th>\n",
       "    </tr>\n",
       "  </thead>\n",
       "  <tbody>\n",
       "    <tr>\n",
       "      <th>0</th>\n",
       "      <td>The DMV (Washington. DC)</td>\n",
       "      <td>2018-01-27 19:45:16</td>\n",
       "      <td>Wendy Williams Is ‘Sick Of This #MeToo Movemen...</td>\n",
       "      <td>9.573387e+17</td>\n",
       "      <td>0</td>\n",
       "      <td>23597727</td>\n",
       "      <td>93.9 WKYS</td>\n",
       "      <td>False</td>\n",
       "      <td>False</td>\n",
       "      <td>939</td>\n",
       "      <td>unknown</td>\n",
       "      <td>WKYS</td>\n",
       "      <td>white</td>\n",
       "      <td>0.056188</td>\n",
       "      <td>0.034674</td>\n",
       "      <td>0.037256</td>\n",
       "      <td>0.444610</td>\n",
       "    </tr>\n",
       "    <tr>\n",
       "      <th>1</th>\n",
       "      <td>Scottsdale, AZ</td>\n",
       "      <td>2018-01-27 19:45:16</td>\n",
       "      <td>RT @Amy_Siskind: To every who has a story to t...</td>\n",
       "      <td>9.573387e+17</td>\n",
       "      <td>0</td>\n",
       "      <td>902329672628805632</td>\n",
       "      <td>Jackie Thorpe</td>\n",
       "      <td>False</td>\n",
       "      <td>True</td>\n",
       "      <td>Jackie</td>\n",
       "      <td>unknown</td>\n",
       "      <td>Thorpe</td>\n",
       "      <td>white</td>\n",
       "      <td>0.003309</td>\n",
       "      <td>0.461259</td>\n",
       "      <td>0.012624</td>\n",
       "      <td>0.976176</td>\n",
       "    </tr>\n",
       "    <tr>\n",
       "      <th>2</th>\n",
       "      <td>Missouri, USA</td>\n",
       "      <td>2018-01-27 19:45:15</td>\n",
       "      <td>RT @Amy_Siskind: Wow, that was fast - new game...</td>\n",
       "      <td>9.573387e+17</td>\n",
       "      <td>0</td>\n",
       "      <td>467196175</td>\n",
       "      <td>trump's BOSS</td>\n",
       "      <td>False</td>\n",
       "      <td>True</td>\n",
       "      <td>trumps</td>\n",
       "      <td>unknown</td>\n",
       "      <td>BOSS</td>\n",
       "      <td>white</td>\n",
       "      <td>0.008496</td>\n",
       "      <td>0.295922</td>\n",
       "      <td>0.029075</td>\n",
       "      <td>0.986167</td>\n",
       "    </tr>\n",
       "    <tr>\n",
       "      <th>3</th>\n",
       "      <td>Texas, USA</td>\n",
       "      <td>2018-01-27 19:45:11</td>\n",
       "      <td>Poor little guy....\\n\\n#veterans #military #me...</td>\n",
       "      <td>9.573387e+17</td>\n",
       "      <td>0</td>\n",
       "      <td>949355663364362241</td>\n",
       "      <td>Everyday Veteran</td>\n",
       "      <td>False</td>\n",
       "      <td>False</td>\n",
       "      <td>Everyday</td>\n",
       "      <td>unknown</td>\n",
       "      <td>Veteran</td>\n",
       "      <td>hispanic</td>\n",
       "      <td>0.050004</td>\n",
       "      <td>0.005929</td>\n",
       "      <td>0.140123</td>\n",
       "      <td>0.109381</td>\n",
       "    </tr>\n",
       "    <tr>\n",
       "      <th>4</th>\n",
       "      <td>Hell</td>\n",
       "      <td>2018-01-27 19:46:10</td>\n",
       "      <td>Lots of lib falling to the #MeToo movement so ...</td>\n",
       "      <td>9.573390e+17</td>\n",
       "      <td>0</td>\n",
       "      <td>4917121001</td>\n",
       "      <td>Hillary for Prison</td>\n",
       "      <td>False</td>\n",
       "      <td>False</td>\n",
       "      <td>Hillary</td>\n",
       "      <td>female</td>\n",
       "      <td>Prison</td>\n",
       "      <td>white</td>\n",
       "      <td>0.009400</td>\n",
       "      <td>0.227525</td>\n",
       "      <td>0.023380</td>\n",
       "      <td>0.931743</td>\n",
       "    </tr>\n",
       "  </tbody>\n",
       "</table>\n",
       "</div>"
      ],
      "text/plain": [
       "            author_location           created_at  \\\n",
       "0  The DMV (Washington. DC)  2018-01-27 19:45:16   \n",
       "1            Scottsdale, AZ  2018-01-27 19:45:16   \n",
       "2             Missouri, USA  2018-01-27 19:45:15   \n",
       "3                Texas, USA  2018-01-27 19:45:11   \n",
       "4                      Hell  2018-01-27 19:46:10   \n",
       "\n",
       "                                                text            id  \\\n",
       "0  Wendy Williams Is ‘Sick Of This #MeToo Movemen...  9.573387e+17   \n",
       "1  RT @Amy_Siskind: To every who has a story to t...  9.573387e+17   \n",
       "2  RT @Amy_Siskind: Wow, that was fast - new game...  9.573387e+17   \n",
       "3  Poor little guy....\\n\\n#veterans #military #me...  9.573387e+17   \n",
       "4  Lots of lib falling to the #MeToo movement so ...  9.573390e+17   \n",
       "\n",
       "  favorite_count           author_id         author_name author_verified  \\\n",
       "0              0            23597727           93.9 WKYS           False   \n",
       "1              0  902329672628805632       Jackie Thorpe           False   \n",
       "2              0           467196175        trump's BOSS           False   \n",
       "3              0  949355663364362241    Everyday Veteran           False   \n",
       "4              0          4917121001  Hillary for Prison           False   \n",
       "\n",
       "  retweet first_name inferred_gender last_name      race       api     black  \\\n",
       "0   False        939         unknown      WKYS     white  0.056188  0.034674   \n",
       "1    True     Jackie         unknown    Thorpe     white  0.003309  0.461259   \n",
       "2    True     trumps         unknown      BOSS     white  0.008496  0.295922   \n",
       "3   False   Everyday         unknown   Veteran  hispanic  0.050004  0.005929   \n",
       "4   False    Hillary          female    Prison     white  0.009400  0.227525   \n",
       "\n",
       "   hispanic     white  \n",
       "0  0.037256  0.444610  \n",
       "1  0.012624  0.976176  \n",
       "2  0.029075  0.986167  \n",
       "3  0.140123  0.109381  \n",
       "4  0.023380  0.931743  "
      ]
     },
     "execution_count": 23,
     "metadata": {},
     "output_type": "execute_result"
    }
   ],
   "source": [
    "ethnicity_preds.head()"
   ]
  },
  {
   "cell_type": "code",
   "execution_count": 24,
   "metadata": {
    "collapsed": true
   },
   "outputs": [],
   "source": [
    "gender_groupby = ethnicity_preds.groupby([\"inferred_gender\"]).size()"
   ]
  },
  {
   "cell_type": "code",
   "execution_count": 25,
   "metadata": {},
   "outputs": [
    {
     "data": {
      "text/plain": [
       "inferred_gender\n",
       "female           15044\n",
       "male             11872\n",
       "mostly_female     2384\n",
       "mostly_male       1380\n",
       "unknown          31046\n",
       "dtype: int64"
      ]
     },
     "execution_count": 25,
     "metadata": {},
     "output_type": "execute_result"
    }
   ],
   "source": [
    "gender_groupby."
   ]
  },
  {
   "cell_type": "code",
   "execution_count": 42,
   "metadata": {
    "collapsed": true
   },
   "outputs": [],
   "source": [
    "ethnicity_preds[\"race\"] = ethnicity_preds[\"race\"].replace(\"api\", \"asian pacific islander\")"
   ]
  },
  {
   "cell_type": "code",
   "execution_count": 65,
   "metadata": {},
   "outputs": [],
   "source": [
    "gender_percents = ethnicity_preds.loc[~ethnicity_preds[\"inferred_gender\"].isin([\"unknown\"])].groupby([\"inferred_gender\"]).size() / (15044 + 11872 + 2384 + 1380) * 100"
   ]
  },
  {
   "cell_type": "code",
   "execution_count": 72,
   "metadata": {},
   "outputs": [],
   "source": [
    "gender_percents_df = pd.DataFrame(gender_percents)"
   ]
  },
  {
   "cell_type": "code",
   "execution_count": 77,
   "metadata": {},
   "outputs": [
    {
     "data": {
      "text/html": [
       "<div>\n",
       "<style>\n",
       "    .dataframe thead tr:only-child th {\n",
       "        text-align: right;\n",
       "    }\n",
       "\n",
       "    .dataframe thead th {\n",
       "        text-align: left;\n",
       "    }\n",
       "\n",
       "    .dataframe tbody tr th {\n",
       "        vertical-align: top;\n",
       "    }\n",
       "</style>\n",
       "<table border=\"1\" class=\"dataframe\">\n",
       "  <thead>\n",
       "    <tr style=\"text-align: right;\">\n",
       "      <th></th>\n",
       "      <th>inferred_gender</th>\n",
       "      <th>Percent</th>\n",
       "    </tr>\n",
       "  </thead>\n",
       "  <tbody>\n",
       "    <tr>\n",
       "      <th>0</th>\n",
       "      <td>female</td>\n",
       "      <td>49.035202</td>\n",
       "    </tr>\n",
       "    <tr>\n",
       "      <th>1</th>\n",
       "      <td>male</td>\n",
       "      <td>38.696219</td>\n",
       "    </tr>\n",
       "    <tr>\n",
       "      <th>2</th>\n",
       "      <td>mostly_female</td>\n",
       "      <td>7.770535</td>\n",
       "    </tr>\n",
       "    <tr>\n",
       "      <th>3</th>\n",
       "      <td>mostly_male</td>\n",
       "      <td>4.498044</td>\n",
       "    </tr>\n",
       "  </tbody>\n",
       "</table>\n",
       "</div>"
      ],
      "text/plain": [
       "  inferred_gender    Percent\n",
       "0          female  49.035202\n",
       "1            male  38.696219\n",
       "2   mostly_female   7.770535\n",
       "3     mostly_male   4.498044"
      ]
     },
     "execution_count": 77,
     "metadata": {},
     "output_type": "execute_result"
    }
   ],
   "source": [
    "gender_percents_df.reset_index().rename(columns = {0:\"Percent\"})"
   ]
  },
  {
   "cell_type": "code",
   "execution_count": null,
   "metadata": {
    "collapsed": true
   },
   "outputs": [],
   "source": [
    "import matplotlib.pyplot as plt\n",
    "\n",
    "fig, ax = plt.subplots()\n",
    "\n",
    "# We need to draw the canvas, otherwise the labels won't be positioned and \n",
    "# won't have values yet.\n",
    "fig.canvas.draw()\n",
    "\n",
    "labels = [item.get_text() for item in ax.get_xticklabels()]\n",
    "labels[1] = 'Testing'\n",
    "\n",
    "ax.set_xticklabels(labels)\n",
    "\n",
    "plt.show()\n"
   ]
  },
  {
   "cell_type": "code",
   "execution_count": 98,
   "metadata": {},
   "outputs": [
    {
     "data": {
      "image/png": "[encoded data removed]",
      "text/plain": [
       "<matplotlib.figure.Figure at 0x1c2cdb7b50>"
      ]
     },
     "metadata": {},
     "output_type": "display_data"
    }
   ],
   "source": [
    "gender_percents.plot(kind = \"bar\", color = \"C0\")\n",
    "plt.title(\"Percent of Tweets By Inferred Gender\")\n",
    "plt.xticks(rotation = 70)\n",
    "plt.tight_layout()\n",
    "plt.savefig(\"NumTweets_InferredGender_Pcts.png\")\n",
    "plt.show()\n",
    "plt.close()\n",
    "plt.clf()"
   ]
  },
  {
   "cell_type": "code",
   "execution_count": 84,
   "metadata": {},
   "outputs": [
    {
     "data": {
      "image/png": "[encoded data removed]",
      "text/plain": [
       "<matplotlib.figure.Figure at 0x1c2d943f50>"
      ]
     },
     "metadata": {},
     "output_type": "display_data"
    }
   ],
   "source": [
    "sns.countplot(x=\"inferred_gender\", data=ethnicity_preds.loc[~ethnicity_preds[\"inferred_gender\"].isin([\"unknown\"])], color = \"C0\")\n",
    "plt.title(\"Number of Tweets By Inferred Gender\")\n",
    "plt.xticks(rotation = 70)\n",
    "plt.tight_layout()\n",
    "plt.savefig(\"NumTweets_InferredGender.png\")\n",
    "plt.show()\n",
    "plt.close()\n",
    "plt.clf()\n",
    "#sns.barplot(x=\"inferred_gender\", y=\"retweet\", hue=\"race\", data = ethnicity_preds)"
   ]
  },
  {
   "cell_type": "code",
   "execution_count": 85,
   "metadata": {},
   "outputs": [
    {
     "data": {
      "image/png": "[encoded data removed]",
      "text/plain": [
       "<matplotlib.figure.Figure at 0x1c2a8c1e90>"
      ]
     },
     "metadata": {},
     "output_type": "display_data"
    }
   ],
   "source": [
    "sns.countplot(x=\"race\", data=ethnicity_preds, color = \"C0\")\n",
    "plt.title(\"Number of Tweets By Inferred Race\")\n",
    "plt.xticks(rotation = 70)\n",
    "plt.tight_layout()\n",
    "plt.savefig(\"NumTweets_InferredRace.png\")\n",
    "plt.show()\n",
    "plt.close()\n",
    "plt.clf()"
   ]
  },
  {
   "cell_type": "code",
   "execution_count": 87,
   "metadata": {},
   "outputs": [
    {
     "data": {
      "image/png": "[encoded data removed]",
      "text/plain": [
       "<matplotlib.figure.Figure at 0x1c2a8c1ed0>"
      ]
     },
     "metadata": {},
     "output_type": "display_data"
    }
   ],
   "source": [
    "sns.countplot(x=\"retweet\", data=ethnicity_preds.loc[ethnicity_preds[\"retweet\"].isin([\"True\", \"False\"])], color = \"C0\")\n",
    "plt.title(\"Number of Retweets\")\n",
    "plt.xticks(rotation = 70)\n",
    "plt.tight_layout()\n",
    "plt.savefig(\"NumTweets_Retweets.png\")\n",
    "plt.show()\n",
    "plt.close()\n",
    "plt.clf()"
   ]
  },
  {
   "cell_type": "code",
   "execution_count": 99,
   "metadata": {
    "collapsed": true
   },
   "outputs": [],
   "source": [
    "ethnicity_preds.to_csv(\"Cleaned_MeToo_Data.csv\", index = False, encoding = \"utf-8\")"
   ]
  },
  {
   "cell_type": "code",
   "execution_count": 104,
   "metadata": {
    "collapsed": true
   },
   "outputs": [],
   "source": [
    "rts = pd.read_csv(\"MeToo_ReTweets.csv\", encoding = \"utf-8\")"
   ]
  },
  {
   "cell_type": "code",
   "execution_count": 105,
   "metadata": {
    "collapsed": true
   },
   "outputs": [],
   "source": [
    "ogs = pd.read_csv(\"MeToo_OriginalTweets.csv\", encoding = \"utf-8\")"
   ]
  },
  {
   "cell_type": "code",
   "execution_count": 106,
   "metadata": {},
   "outputs": [
    {
     "data": {
      "text/plain": [
       "(40665, 11)"
      ]
     },
     "execution_count": 106,
     "metadata": {},
     "output_type": "execute_result"
    }
   ],
   "source": [
    "rts.shape"
   ]
  },
  {
   "cell_type": "code",
   "execution_count": 107,
   "metadata": {},
   "outputs": [
    {
     "data": {
      "text/plain": [
       "(21071, 11)"
      ]
     },
     "execution_count": 107,
     "metadata": {},
     "output_type": "execute_result"
    }
   ],
   "source": [
    "ogs.shape"
   ]
  },
  {
   "cell_type": "code",
   "execution_count": null,
   "metadata": {
    "collapsed": true
   },
   "outputs": [],
   "source": []
  }
 ],
 "metadata": {
  "kernelspec": {
   "display_name": "Python 2",
   "language": "python",
   "name": "python2"
  },
  "language_info": {
   "codemirror_mode": {
    "name": "ipython",
    "version": 2
   },
   "file_extension": ".py",
   "mimetype": "text/x-python",
   "name": "python",
   "nbconvert_exporter": "python",
   "pygments_lexer": "ipython2",
   "version": "2.7.14"
  }
 },
 "nbformat": 4,
 "nbformat_minor": 2
}
