{
 "cells": [
  {
   "cell_type": "code",
   "execution_count": 2,
   "metadata": {},
   "outputs": [
    {
     "ename": "ImportError",
     "evalue": "No module named Twython",
     "output_type": "error",
     "traceback": [
      "\u001b[0;31m---------------------------------------------------------------------------\u001b[0m",
      "\u001b[0;31mImportError\u001b[0m                               Traceback (most recent call last)",
      "\u001b[0;32m<ipython-input-2-056e11bdf74a>\u001b[0m in \u001b[0;36m<module>\u001b[0;34m()\u001b[0m\n\u001b[0;32m----> 1\u001b[0;31m \u001b[0;32mimport\u001b[0m \u001b[0mTwython\u001b[0m\u001b[0;34m\u001b[0m\u001b[0m\n\u001b[0m",
      "\u001b[0;31mImportError\u001b[0m: No module named Twython"
     ]
    }
   ],
   "source": [
    "import Twython"
   ]
  },
  {
   "cell_type": "code",
   "execution_count": 1,
   "metadata": {
    "collapsed": true
   },
   "outputs": [],
   "source": [
    "import sys"
   ]
  },
  {
   "cell_type": "code",
   "execution_count": 2,
   "metadata": {},
   "outputs": [
    {
     "data": {
      "text/plain": [
       "['',\n",
       " '/Users/carolinebutlerwilkinson/anaconda/lib/python27.zip',\n",
       " '/Users/carolinebutlerwilkinson/anaconda/lib/python2.7',\n",
       " '/Users/carolinebutlerwilkinson/anaconda/lib/python2.7/plat-darwin',\n",
       " '/Users/carolinebutlerwilkinson/anaconda/lib/python2.7/plat-mac',\n",
       " '/Users/carolinebutlerwilkinson/anaconda/lib/python2.7/plat-mac/lib-scriptpackages',\n",
       " '/Users/carolinebutlerwilkinson/anaconda/lib/python2.7/lib-tk',\n",
       " '/Users/carolinebutlerwilkinson/anaconda/lib/python2.7/lib-old',\n",
       " '/Users/carolinebutlerwilkinson/anaconda/lib/python2.7/lib-dynload',\n",
       " '/Users/carolinebutlerwilkinson/anaconda/lib/python2.7/site-packages',\n",
       " '/Users/carolinebutlerwilkinson/anaconda/lib/python2.7/site-packages/Sphinx-1.5.6-py2.7.egg',\n",
       " '/Users/carolinebutlerwilkinson/anaconda/lib/python2.7/site-packages/aeosa',\n",
       " '/Users/carolinebutlerwilkinson/anaconda/lib/python2.7/site-packages/setuptools-27.2.0-py2.7.egg',\n",
       " '/Users/carolinebutlerwilkinson/anaconda/lib/python2.7/site-packages/IPython/extensions',\n",
       " '/Users/carolinebutlerwilkinson/.ipython']"
      ]
     },
     "execution_count": 2,
     "metadata": {},
     "output_type": "execute_result"
    }
   ],
   "source": [
    "sys.path"
   ]
  },
  {
   "cell_type": "code",
   "execution_count": 3,
   "metadata": {},
   "outputs": [
    {
     "data": {
      "text/plain": [
       "'/Users/carolinebutlerwilkinson/anaconda/bin/python'"
      ]
     },
     "execution_count": 3,
     "metadata": {},
     "output_type": "execute_result"
    }
   ],
   "source": [
    "sys.executable"
   ]
  },
  {
   "cell_type": "code",
   "execution_count": null,
   "metadata": {
    "collapsed": true
   },
   "outputs": [],
   "source": []
  }
 ],
 "metadata": {
  "kernelspec": {
   "display_name": "Python 2",
   "language": "python",
   "name": "python2"
  },
  "language_info": {
   "codemirror_mode": {
    "name": "ipython",
    "version": 2
   },
   "file_extension": ".py",
   "mimetype": "text/x-python",
   "name": "python",
   "nbconvert_exporter": "python",
   "pygments_lexer": "ipython2",
   "version": "2.7.13"
  }
 },
 "nbformat": 4,
 "nbformat_minor": 2
}
